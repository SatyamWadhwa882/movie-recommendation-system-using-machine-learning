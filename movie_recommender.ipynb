{
  "nbformat": 4,
  "nbformat_minor": 0,
  "metadata": {
    "colab": {
      "provenance": []
    },
    "kernelspec": {
      "name": "python3",
      "display_name": "Python 3"
    },
    "language_info": {
      "name": "python"
    }
  },
  "cells": [
    {
      "cell_type": "code",
      "execution_count": null,
      "metadata": {
        "colab": {
          "base_uri": "https://localhost:8080/"
        },
        "id": "ih9oA1-LWPF3",
        "outputId": "0572e4cc-f169-4bf9-98cb-89b0f5ca4866"
      },
      "outputs": [
        {
          "output_type": "stream",
          "name": "stdout",
          "text": [
            "Top 5 movie recommendations for user 1: ['It Takes Two (1995)'\n",
            " 'Like Water for Chocolate (Como agua para chocolate) (1992)'\n",
            " 'Stuart Saves His Family (1995)']\n"
          ]
        }
      ],
      "source": [
        "import pandas as pd\n",
        "from sklearn.metrics.pairwise import cosine_similarity\n",
        "from sklearn.model_selection import train_test_split\n",
        "\n",
        "# Load movie data\n",
        "movies = pd.read_csv('/content/movies.csv')\n",
        "\n",
        "# Load rating data\n",
        "ratings = pd.read_csv('/content/ratings.csv')\n",
        "\n",
        "# Merge movies and ratings on 'movieId'\n",
        "data = pd.merge(ratings, movies, on='movieId')\n",
        "\n",
        "# Split the data into training and testing sets\n",
        "train_data, test_data = train_test_split(data, test_size=0.2, random_state=42)\n",
        "\n",
        "# Create a user-item matrix\n",
        "user_item_matrix = train_data.pivot_table(index='userId', columns='movieId', values='rating')\n",
        "\n",
        "# Fill missing values with 0 (assuming no rating means a rating of 0)\n",
        "user_item_matrix = user_item_matrix.fillna(0)\n",
        "\n",
        "# Calculate cosine similarity between users\n",
        "user_similarity = cosine_similarity(user_item_matrix)\n",
        "\n",
        "# Function to get movie recommendations for a given user\n",
        "def get_movie_recommendations(user_id, user_item_matrix, user_similarity, n=5):\n",
        "    user_ratings = user_item_matrix.loc[user_id].values.reshape(1, -1)\n",
        "    similarity_scores = cosine_similarity(user_ratings, user_item_matrix.values).flatten()\n",
        "\n",
        "    # Get indices of movies sorted by similarity score\n",
        "    movie_indices = similarity_scores.argsort()[::-1]\n",
        "\n",
        "    # Exclude movies the user has already rated\n",
        "    user_rated_movies = user_item_matrix.loc[user_id][user_item_matrix.loc[user_id] > 0].index\n",
        "    movie_indices = [idx for idx in movie_indices if idx not in user_rated_movies]\n",
        "\n",
        "    # Return the top N recommended movie IDs\n",
        "    recommendations = movie_indices[:n]\n",
        "    return recommendations\n",
        "\n",
        "# Example: Get movie recommendations for user with ID 1\n",
        "user_id_to_recommend = 1\n",
        "recommendations = get_movie_recommendations(user_id_to_recommend, user_item_matrix, user_similarity, n=5)\n",
        "\n",
        "# Display the recommended movies\n",
        "recommended_movies = movies[movies['movieId'].isin(recommendations)]['title'].unique()\n",
        "print(f\"Top 5 movie recommendations for user {user_id_to_recommend}: {recommended_movies}\")\n"
      ]
    }
  ]
}